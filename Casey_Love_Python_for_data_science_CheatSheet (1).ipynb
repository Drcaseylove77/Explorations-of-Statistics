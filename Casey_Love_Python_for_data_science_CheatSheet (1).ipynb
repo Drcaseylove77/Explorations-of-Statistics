{
  "nbformat": 4,
  "nbformat_minor": 0,
  "metadata": {
    "colab": {
      "provenance": []
    },
    "kernelspec": {
      "name": "python3",
      "display_name": "Python 3"
    },
    "language_info": {
      "name": "python"
    }
  },
  "cells": [
    {
      "cell_type": "markdown",
      "source": [
        "# <a name=\"table-of-contents\"></a> 📌 Table of Contents  \n",
        "\n",
        "#### **1. [Introduction to Python](#introduction-to-python)**  \n",
        "#### **2. [Tools to Run a Python Notebook](#tools-to-run-a-python-notebook)**  \n",
        "#### **3. [How to Write a Python File or a Jupyter Notebook](#how-to-write-a-python-file-or-a-jupyter-notebook)**  \n",
        "#### **4. [What is a Cell in Jupyter Notebook?](#what-is-a-cell-in-jupyter-notebook)**  \n",
        "#### **5. [Different Parts of a Jupyter Notebook](#different-parts-of-a-jupyter-notebook)**  \n",
        "#### **6. [Restarting the Kernel and Losing Variable Values](#restarting-the-kernel-and-losing-variable-values)**  \n",
        "#### **7. [Variables in Python](#variables-in-python)**  \n",
        "#### **8. [How to Run Cells in Jupyter Notebook](#how-to-run-cells-in-jupyter-notebook)**  \n",
        "#### **9. [Basic Input and Output](#basic-input-and-output)**  \n",
        "#### **10. [Operators in Python](#operators-in-python)**  \n",
        "#### **11. [Conditional Statements](#conditional-statements)**  \n",
        "#### **12. [Loops in Python](#loops-in-python)**  \n",
        "#### **13. [Lists and Tuples](#lists-and-tuples)**  \n",
        "#### **14. [Dictionaries](#dictionaries)**  \n",
        "#### **15. [Functions and Their Purpose](#functions-and-their-purpose)**  \n",
        "#### **16. [File Handling](#file-handling)**  \n",
        "#### **17. [Importing Modules](#importing-modules)**  \n",
        "\n",
        "#### **18. [Python for Data Science](#python-for-data-science)**  \n",
        "- **[NumPy for Numerical Computing](#numpy-for-numerical-computing)**  \n",
        "- **[Pandas for Data Manipulation](#pandas-for-data-manipulation)**  \n",
        "- **[Matplotlib for Data Visualization](#matplotlib-for-data-visualization)**  \n",
        "- **[Seaborn for Advanced Visualization](#seaborn-for-advanced-visualization)**  \n",
        "- **[Scikit-Learn for Machine Learning](#scikit-learn-for-machine-learning)**  \n",
        "- **[Handling Missing Data](#handling-missing-data)**  \n",
        "- **[Working with Large Datasets (Dask)](#working-with-large-datasets-dask)**  \n",
        "- **[Working with Time Series Data](#working-with-time-series-data)**  \n",
        "\n",
        "---\n"
      ],
      "metadata": {
        "id": "PpegDjSsdaKL"
      }
    },
    {
      "cell_type": "markdown",
      "source": [
        "# <a name=\"introduction-to-python\"></a> Introduction to Python  \n",
        "[🔼 Back to Table of Contents](#table-of-contents)  \n",
        "\n",
        "Python is a high-level, interpreted programming language known for its simplicity and readability. It supports multiple programming paradigms, including procedural, object-oriented, and functional programming. Python is widely used in web development, data science, artificial intelligence, and automation due to its vast ecosystem of libraries and frameworks. With its easy-to-learn syntax, Python is an excellent choice for beginners and professionals alike.\n",
        "\n",
        "---\n",
        "\n"
      ],
      "metadata": {
        "id": "axZ91XLzEmrC"
      }
    },
    {
      "cell_type": "markdown",
      "source": [
        "# <a name=\"tools-to-run-a-python-notebook\"></a> Tools to Run a Python Notebook  \n",
        "[🔼 Back to Table of Contents](#table-of-contents)\n",
        "\n",
        "---\n",
        "\n",
        "There are several tools available to run Jupyter Notebooks:\n",
        "\n",
        "### 1. Google Colab  \n",
        "- A free cloud-based platform provided by Google.  \n",
        "- Allows running notebooks without installation.  \n",
        "- Provides GPU and TPU support for deep learning tasks.  \n",
        "- Accessible at: [Google Colab](https://colab.research.google.com/)  \n",
        "\n",
        "### 2. Anaconda  \n",
        "- A Python distribution that includes Jupyter Notebook, JupyterLab, and essential libraries for data science and machine learning.  \n",
        "- Recommended for offline usage.  \n",
        "- Download from: [Anaconda](https://www.anaconda.com/)  \n",
        "\n",
        "### 3. Jupyter Notebook (Standalone)  \n",
        "- Can be installed separately using:  \n",
        "\n",
        "`pip install notebook`"
      ],
      "metadata": {
        "id": "WEExZySgGiky"
      }
    },
    {
      "cell_type": "markdown",
      "source": [
        "# <a name=\"how-to-write-a-python-file-or-a-jupyter-notebook\"></a> How to Write a Python File or a Jupyter Notebook  \n",
        "\n",
        "\n",
        "[🔼 Back to Table of Contents](#table-of-contents)  \n",
        "\n",
        "---\n",
        "\n",
        "### **Writing a Python Script (`.py` file)**   \n",
        "\n",
        "A Python script is a simple text file with a `.py` extension. You can create one using any text editor (such as Notepad++, VS Code,...) and run it using the following command in the terminal or command prompt:\n",
        "\n",
        "`python filename.py`\n",
        "\n",
        "#### Writing a Jupyter Notebook (`.ipynb` file)\n",
        "\n",
        "A Jupyter Notebook (`.ipynb`) is an interactive document that allows users to write and execute Python code in chunks called *cells*. Unlike a standard script, Jupyter Notebooks allow inline visualization, documentation, and interactive computing. You can create a Jupyter Notebook using **JupyterLab, Anaconda, or Google Colab**."
      ],
      "metadata": {
        "id": "RliyNVZnKzYA"
      }
    },
    {
      "cell_type": "markdown",
      "source": [
        "# <a name=\"what-is-a-cell-in-jupyter-notebook\"></a> What is a Cell in Jupyter Notebook?  \n",
        "[🔼 Back to Table of Contents](#table-of-contents)  \n",
        "\n",
        "---\n",
        "\n",
        "A cell is a section in a Jupyter Notebook where users can write and execute code, text (Markdown), or visualizations. There are two main types of cells:\n",
        "\n",
        "- Code Cells\n",
        "\n",
        "  Used for writing and executing Python code.\n",
        "\n",
        "Example:"
      ],
      "metadata": {
        "id": "uOUsvbYfHMTU"
      }
    },
    {
      "cell_type": "code",
      "source": [
        "print(\"Statistical Discoveries\")\n",
        "print(\"Casey Love, CL2127@MSSTATE.EDU\")"
      ],
      "metadata": {
        "colab": {
          "base_uri": "https://localhost:8080/"
        },
        "id": "gqreZ3uEEn1g",
        "outputId": "4b73f7a0-ed73-4b98-d91e-abdfa422f2c1"
      },
      "execution_count": 4,
      "outputs": [
        {
          "output_type": "stream",
          "name": "stdout",
          "text": [
            "Statistical Discoveries\n",
            "Casey Love, CL2127@MSSTATE.EDU\n"
          ]
        }
      ]
    },
    {
      "cell_type": "markdown",
      "source": [
        "- Markdown Cells  \n",
        "  Used for writing formatted text, equations, and explanations.  \n",
        "  Supports **bold**, *italics*, and LaTeX equations:  \n",
        "\n",
        "$$ E = mc^2 $$  "
      ],
      "metadata": {
        "id": "FmEDhkB0Hbfg"
      }
    },
    {
      "cell_type": "markdown",
      "source": [
        "# <a name=\"different-parts-of-a-jupyter-notebook\"></a> Different Parts of a Jupyter Notebook  \n",
        "[🔼 Back to Table of Contents](#table-of-contents)  \n",
        "\n",
        "---\n",
        "\n",
        "Before reaching the first cell, the Jupyter Notebook interface consists of the following elements:\n",
        "\n",
        "### 1. Menu Bar  \n",
        "Provides access to options such as:  \n",
        "- **File** – Create, save, rename notebooks  \n",
        "- **Edit** – Undo, redo, find/replace  \n",
        "- **View** – Toggle different panels  \n",
        "- **Insert** – Add new cells  \n",
        "- **Kernel or Runtime** – Restart, interrupt execution  \n",
        "- **Help** – Access documentation and shortcuts  \n",
        "\n",
        "### 2. Toolbar in jupyter notebook\n",
        "Contains buttons for common actions like:  \n",
        "- Running a cell (`▶`)  \n",
        "- Stopping execution (`■`)  \n",
        "- Restarting the kernel (`⟳`)  \n",
        "\n",
        "### 3. Kernel  \n",
        "- The computational engine that runs the code in the notebook.  \n",
        "- Can be restarted or interrupted if a script gets stuck.  \n",
        "\n",
        "### 4. File Name  \n",
        "- The title of the notebook, which can be renamed by clicking on it.  "
      ],
      "metadata": {
        "id": "bERaEIG-HzDW"
      }
    },
    {
      "cell_type": "markdown",
      "source": [
        "# <a name=\"restarting-the-kernel-and-losing-variable-values\"></a> Restarting the Kernel and Losing Variable Values  \n",
        "[🔼 Back to Table of Contents](#table-of-contents)  \n",
        "\n",
        "---\n",
        "\n",
        "Restarting the kernel in Jupyter Notebook **clears all variables, functions, and imports** stored in memory. This means:  \n",
        "\n",
        "- Any variables, lists, or objects created during the session will be **lost**.  \n",
        "- Any libraries imported will need to be re-imported.  \n",
        "- Any dataset loaded into memory will need to be reloaded.  \n"
      ],
      "metadata": {
        "id": "gp9gtyTzJdLs"
      }
    },
    {
      "cell_type": "markdown",
      "source": [
        "# <a name=\"how-to-run-cells-in-jupyter-notebook\"></a> How to Run Cells in Jupyter Notebook  \n",
        "[🔼 Back to Table of Contents](#table-of-contents)  \n",
        "\n",
        "---\n",
        "\n",
        "In a Jupyter Notebook, code is written inside **cells**. To execute the code inside a cell, you have multiple options:  \n",
        "\n",
        "#### **1. Using the Run Button**  \n",
        "- Click on a cell to select it.\n",
        "- Click the **\"Run\" (▶) button** in the toolbar.  \n",
        "\n",
        "#### **2. Using Keyboard Shortcuts**  \n",
        "- Press **`Shift + Enter`** → Runs the current cell and moves to the next cell.  \n",
        "- Press **`Ctrl + Enter`** → Runs the current cell but stays in the same cell.  \n",
        "- Press **`Alt + Enter`** → Runs the current cell and inserts a new cell below.  \n",
        "\n"
      ],
      "metadata": {
        "id": "xtGZfH43Liyg"
      }
    },
    {
      "cell_type": "markdown",
      "source": [
        "<a id=\"#section2\"></a>\n",
        "# Basic concepts in Python"
      ],
      "metadata": {
        "id": "93keKSB8J3pV"
      }
    },
    {
      "cell_type": "markdown",
      "source": [
        "\n",
        "## Running Python Code Without Variables  \n",
        "\n",
        "You can run Python code directly inside a Jupyter Notebook cell. Here are some examples:\n",
        "\n",
        "1. Printing text  \n",
        "2. Performing mathematical calculations  \n",
        "3. Using built-in functions  "
      ],
      "metadata": {
        "id": "7xf3i1lcLzGi"
      }
    },
    {
      "cell_type": "code",
      "source": [
        "print(\"Hello, Jupyter Notebook!\")"
      ],
      "metadata": {
        "colab": {
          "base_uri": "https://localhost:8080/"
        },
        "id": "gmg2DEkJMAUG",
        "outputId": "c27de8f7-00d1-413f-e785-83ec13de96af"
      },
      "execution_count": 5,
      "outputs": [
        {
          "output_type": "stream",
          "name": "stdout",
          "text": [
            "Hello, Jupyter Notebook!\n"
          ]
        }
      ]
    },
    {
      "cell_type": "code",
      "source": [
        "(10 + 5) * 2 - 8 / 4"
      ],
      "metadata": {
        "colab": {
          "base_uri": "https://localhost:8080/"
        },
        "id": "z3igz8CEMCNP",
        "outputId": "fbaaf875-6ec6-4f1e-9782-dea19ad74e14"
      },
      "execution_count": 6,
      "outputs": [
        {
          "output_type": "execute_result",
          "data": {
            "text/plain": [
              "28.0"
            ]
          },
          "metadata": {},
          "execution_count": 6
        }
      ]
    },
    {
      "cell_type": "code",
      "source": [
        "len(\"Python\")"
      ],
      "metadata": {
        "colab": {
          "base_uri": "https://localhost:8080/"
        },
        "id": "BZ00MDxfMGAK",
        "outputId": "5b6885c2-39b9-44b3-8c0f-75f76f90a1b3"
      },
      "execution_count": 7,
      "outputs": [
        {
          "output_type": "execute_result",
          "data": {
            "text/plain": [
              "6"
            ]
          },
          "metadata": {},
          "execution_count": 7
        }
      ]
    },
    {
      "cell_type": "code",
      "source": [
        "abs(-15)"
      ],
      "metadata": {
        "colab": {
          "base_uri": "https://localhost:8080/"
        },
        "id": "6XCWHtwgMM25",
        "outputId": "94323394-8513-4310-cdbc-ef86d7f916bb"
      },
      "execution_count": 8,
      "outputs": [
        {
          "output_type": "execute_result",
          "data": {
            "text/plain": [
              "15"
            ]
          },
          "metadata": {},
          "execution_count": 8
        }
      ]
    },
    {
      "cell_type": "markdown",
      "source": [
        "# <a name=\"variables-in-python\"></a> Variables in Python  \n",
        "[🔼 Back to Table of Contents](#table-of-contents)  \n",
        "\n",
        "---\n",
        "\n",
        "### What is a Variable?  \n",
        "A **variable** in Python is a named container that stores data. Variables allow us to store, modify, and reuse values in a program, making our code more dynamic and efficient.  \n",
        "\n",
        "#### **Why Do We Need Variables?**  \n",
        "- **Store values for later use**: Instead of repeating a value, we assign it to a variable.  \n",
        "- **Improve code readability**: Meaningful variable names make the code easier to understand.  \n",
        "- **Enable dynamic programming**: Store user input, perform calculations, and update values as needed.  \n",
        "\n",
        "---\n",
        "\n",
        "### Types of Variables in Python  \n",
        "\n",
        "#### **1. Integer (`int`)**  \n",
        "Stores whole numbers, positive or negative.  \n",
        "\n",
        "```python\n",
        "age = 25\n",
        "year = 2024"
      ],
      "metadata": {
        "id": "nsVxJgFiKcls"
      }
    },
    {
      "cell_type": "markdown",
      "source": [],
      "metadata": {
        "id": "JRP_wVSrJ1bd"
      }
    },
    {
      "cell_type": "code",
      "source": [
        "# Assigning variables\n",
        "x = 10\n",
        "y = 3.14\n",
        "name = \"Python\"\n",
        "booo = True\n",
        "# Checking types\n",
        "print(type(x))   # <class 'int'>\n",
        "print(type(y))   # <class 'float'>\n",
        "print(type(name)) # <class 'str'>\n",
        "print(type(booo)) # <class 'bool'>"
      ],
      "metadata": {
        "colab": {
          "base_uri": "https://localhost:8080/"
        },
        "id": "0OGzOqSwHXTe",
        "outputId": "abc4a0d4-7cfd-4ce0-cb55-cedd80037ec6"
      },
      "execution_count": 9,
      "outputs": [
        {
          "output_type": "stream",
          "name": "stdout",
          "text": [
            "<class 'int'>\n",
            "<class 'float'>\n",
            "<class 'str'>\n",
            "<class 'bool'>\n"
          ]
        }
      ]
    },
    {
      "cell_type": "markdown",
      "source": [
        "#### **2.Floating Point (float)**\n",
        "Stores decimal numbers or numbers with fractions."
      ],
      "metadata": {
        "id": "Uf9L9dgFMXzM"
      }
    },
    {
      "cell_type": "code",
      "source": [
        "pi = 3.14159\n",
        "temperature = -12.5"
      ],
      "metadata": {
        "id": "6YvkUNqWKAhy"
      },
      "execution_count": 10,
      "outputs": []
    },
    {
      "cell_type": "markdown",
      "source": [
        "#### **3.String (str)**\n",
        "Stores sequences of characters enclosed in single (') or double (\") quotes."
      ],
      "metadata": {
        "id": "lZAe5usaOTkx"
      }
    },
    {
      "cell_type": "code",
      "source": [
        "name = \"Alice\"\n",
        "message = 'Hello, World!'"
      ],
      "metadata": {
        "id": "Q9-eJpzmMmTz"
      },
      "execution_count": 11,
      "outputs": []
    },
    {
      "cell_type": "markdown",
      "source": [
        "#### **4.Boolean (bool)**\n",
        "Stores True or False values, often used in conditional statements."
      ],
      "metadata": {
        "id": "U31fYMV8Oe9I"
      }
    },
    {
      "cell_type": "code",
      "source": [
        "is_python_fun = True\n",
        "is_snowing = False"
      ],
      "metadata": {
        "id": "CAYRtHqPOeJh"
      },
      "execution_count": 12,
      "outputs": []
    },
    {
      "cell_type": "markdown",
      "source": [
        "#### **5.List (list)**\n",
        "Stores multiple values in an ordered, mutable sequence."
      ],
      "metadata": {
        "id": "3mvOZM17Otxv"
      }
    },
    {
      "cell_type": "code",
      "source": [
        "fruits = [\"apple\", \"banana\", \"cherry\"]\n",
        "numbers = [1, 2, 3, 4, 5]"
      ],
      "metadata": {
        "id": "czXKHoDyOqqE"
      },
      "execution_count": 13,
      "outputs": []
    },
    {
      "cell_type": "markdown",
      "source": [
        "#### **6.Tuple (tuple)**\n",
        "Stores multiple values in an ordered, immutable sequence (cannot be changed after creation)."
      ],
      "metadata": {
        "id": "Qx_QgrJ3O4bP"
      }
    },
    {
      "cell_type": "code",
      "source": [
        "coordinates = (10, 20)\n",
        "rgb_color = (255, 0, 0)"
      ],
      "metadata": {
        "id": "OAN-M-pHO0j3"
      },
      "execution_count": 14,
      "outputs": []
    },
    {
      "cell_type": "markdown",
      "source": [
        "#### **7.Dictionary (dict)**\n",
        "Stores key-value pairs, useful for structured data."
      ],
      "metadata": {
        "id": "p5NTy007PDkQ"
      }
    },
    {
      "cell_type": "code",
      "source": [
        "person = {\"name\": \"Alice\", \"age\": 25, \"city\": \"New York\"}"
      ],
      "metadata": {
        "id": "zDy6seeZO_v-"
      },
      "execution_count": 15,
      "outputs": []
    },
    {
      "cell_type": "markdown",
      "source": [
        "#### **8. Set (set)**\n",
        "Stores unique values in an unordered collection."
      ],
      "metadata": {
        "id": "NFQG-Tx7PP-S"
      }
    },
    {
      "cell_type": "code",
      "source": [
        "unique_numbers = {1, 2, 3, 4, 4, 5}  # Duplicates are removed\n",
        "unique_numbers"
      ],
      "metadata": {
        "colab": {
          "base_uri": "https://localhost:8080/"
        },
        "id": "glKUu0TgPKnd",
        "outputId": "fcc56e86-7ac3-4456-d14c-b4bb9904c8ea"
      },
      "execution_count": 16,
      "outputs": [
        {
          "output_type": "execute_result",
          "data": {
            "text/plain": [
              "{1, 2, 3, 4, 5}"
            ]
          },
          "metadata": {},
          "execution_count": 16
        }
      ]
    },
    {
      "cell_type": "markdown",
      "source": [
        "### Variable Naming Rules\n",
        "\n",
        "- Must start with a letter (a-z, A-Z) or an underscore (_), but not a number.\n",
        "- Can contain letters, numbers, and underscores.\n",
        "- Case-sensitive (Age and age are different).\n",
        "- Cannot use Python keywords (e.g., if, while, def).\n",
        "\n",
        "#### Valid Variable Names:"
      ],
      "metadata": {
        "id": "qhEM7dj2PijO"
      }
    },
    {
      "cell_type": "code",
      "source": [
        "user_name = \"Alice\"\n",
        "total_price = 100.50"
      ],
      "metadata": {
        "id": "0Gi8Ab95PWsO"
      },
      "execution_count": 17,
      "outputs": []
    },
    {
      "cell_type": "markdown",
      "source": [
        "#### Invalid Variable Names:"
      ],
      "metadata": {
        "id": "q9STaeI6PvKu"
      }
    },
    {
      "cell_type": "code",
      "source": [
        "2nd_number = 50  # Cannot start with a number\n",
        "user-name = \"Bob\"  # Hyphens are not allowed\n",
        "class = \"Math\"  # 'class' is a reserved keyword"
      ],
      "metadata": {
        "id": "PA2Hgs-YPrnS",
        "colab": {
          "base_uri": "https://localhost:8080/",
          "height": 106
        },
        "outputId": "1835e3e6-ee45-446f-e652-37dc3523ff1c"
      },
      "execution_count": 18,
      "outputs": [
        {
          "output_type": "error",
          "ename": "SyntaxError",
          "evalue": "invalid decimal literal (<ipython-input-18-f29f152c80e6>, line 1)",
          "traceback": [
            "\u001b[0;36m  File \u001b[0;32m\"<ipython-input-18-f29f152c80e6>\"\u001b[0;36m, line \u001b[0;32m1\u001b[0m\n\u001b[0;31m    2nd_number = 50  # Cannot start with a number\u001b[0m\n\u001b[0m    ^\u001b[0m\n\u001b[0;31mSyntaxError\u001b[0m\u001b[0;31m:\u001b[0m invalid decimal literal\n"
          ]
        }
      ]
    },
    {
      "cell_type": "markdown",
      "source": [],
      "metadata": {
        "id": "kFdorNKtQWzK"
      }
    },
    {
      "cell_type": "markdown",
      "source": [],
      "metadata": {
        "id": "ZXcstDH5QLsn"
      }
    },
    {
      "cell_type": "markdown",
      "source": [
        "# <a name=\"basic-input-and-output\"></a> Basic Input and Output  \n",
        "[🔼 Back to Table of Contents](#table-of-contents)  \n",
        "\n",
        "---\n",
        "\n",
        "In Python, **output** is displayed using the `print()` function, while **input** is taken from the user using the `input()` function. The `input()` function reads user input as a string by default. We can convert it into other data types using functions like `int()`, `float()`, etc.  \n"
      ],
      "metadata": {
        "id": "ExniMnD-QgAU"
      }
    },
    {
      "cell_type": "code",
      "source": [
        "# Output\n",
        "print(\"Hello, World!\")\n",
        "\n",
        "# Input\n",
        "user_name = input(\"Enter your name: \")\n",
        "print(\"Hello, \" + user_name + \"!\")"
      ],
      "metadata": {
        "colab": {
          "base_uri": "https://localhost:8080/"
        },
        "id": "p6iqJgHRQi0Y",
        "outputId": "fc1b6784-8127-4661-8178-8e573e67154d"
      },
      "execution_count": 19,
      "outputs": [
        {
          "output_type": "stream",
          "name": "stdout",
          "text": [
            "Hello, World!\n",
            "Enter your name: Casey Love\n",
            "Hello, Casey Love!\n"
          ]
        }
      ]
    },
    {
      "cell_type": "markdown",
      "source": [
        "# <a name=\"operators-in-python\"></a> Operators in Python  \n",
        "[🔼 Back to Table of Contents](#table-of-contents)  \n",
        "\n",
        "---\n",
        "\n",
        "Operators in Python are symbols used to perform operations on variables and values. They are categorized as follows:  \n",
        "\n",
        "- **Arithmetic Operators** (`+`, `-`, `*`, `/`, `//`, `%`, `**`) – Perform mathematical operations.  \n",
        "- **Comparison Operators** (`==`, `!=`, `>`, `<`, `>=`, `<=`) – Compare values and return `True` or `False`.  \n",
        "- **Logical Operators** (`and`, `or`, `not`) – Combine boolean expressions.  \n",
        "- **Assignment Operators** (`=`, `+=`, `-=`, `*=`, `/=`, `%=`, `**=`, `//=`) – Assign values to variables.  \n",
        "- **Bitwise Operators** (`&`, `|`, `^`, `~`, `<<`, `>>`) – Perform bit-level operations.  \n"
      ],
      "metadata": {
        "id": "4qNaktLeQ7aM"
      }
    },
    {
      "cell_type": "code",
      "source": [
        "# Arithmetic Operators\n",
        "a = 10\n",
        "b = 3\n",
        "print(a + b)  # Addition\n",
        "print(a - b)  # Subtraction\n",
        "print(a * b)  # Multiplication\n",
        "print(a / b)  # Division\n",
        "print(a // b) # Floor division\n",
        "print(a % b)  # Modulus\n",
        "print(a ** b) # Exponentiation\n",
        "\n",
        "# Comparison Operators\n",
        "print(a > b)  # Greater than\n",
        "print(a == b) # Equals\n",
        "print(a != b) # Not equal\n",
        "\n",
        "# Logical Operators\n",
        "print(True and False) # Logical AND\n",
        "print(True or False)  # Logical OR\n",
        "print(not True)       # Logical NOT"
      ],
      "metadata": {
        "colab": {
          "base_uri": "https://localhost:8080/"
        },
        "id": "86qBuRkFQt4J",
        "outputId": "e6827060-a12c-491f-92d3-a2c3db2da5b5"
      },
      "execution_count": 20,
      "outputs": [
        {
          "output_type": "stream",
          "name": "stdout",
          "text": [
            "13\n",
            "7\n",
            "30\n",
            "3.3333333333333335\n",
            "3\n",
            "1\n",
            "1000\n",
            "True\n",
            "False\n",
            "True\n",
            "False\n",
            "True\n",
            "False\n"
          ]
        }
      ]
    },
    {
      "cell_type": "markdown",
      "source": [
        "# <a name=\"conditional-statements\"></a> Conditional Statements  \n",
        "[🔼 Back to Table of Contents](#table-of-contents)  \n",
        "\n",
        "---\n",
        "\n",
        "Conditional statements allow a program to execute different blocks of code based on conditions. The `if`, `elif`, and `else`"
      ],
      "metadata": {
        "id": "JEZTJBUVRNyl"
      }
    },
    {
      "cell_type": "code",
      "source": [
        "age = 18\n",
        "if age >= 18:\n",
        "    print(\"You are an adult.\")\n",
        "elif age > 12:\n",
        "    print(\"You are a teenager.\")\n",
        "else:\n",
        "    print(\"You are a child.\")"
      ],
      "metadata": {
        "id": "09OjSv4bRB4l",
        "colab": {
          "base_uri": "https://localhost:8080/"
        },
        "outputId": "27c519e1-c4ba-46f6-bda2-9553516725ae"
      },
      "execution_count": 21,
      "outputs": [
        {
          "output_type": "stream",
          "name": "stdout",
          "text": [
            "You are an adult.\n"
          ]
        }
      ]
    },
    {
      "cell_type": "markdown",
      "source": [
        "# <a name=\"loops-in-python\"></a> Loops in Python  \n",
        "[🔼 Back to Table of Contents](#table-of-contents)  \n",
        "\n",
        "---\n",
        "\n",
        "Loops allow repeating a block of code multiple times. Python supports **for loops** and **while loops**.  \n",
        "\n",
        "### **1. For Loop**  \n",
        "Used to iterate over a sequence (list, tuple, string, etc.).  \n",
        "\n",
        "### **2. While Loop**\n",
        "Executes as long as a condition is `True`."
      ],
      "metadata": {
        "id": "3_i0W9lJRVfs"
      }
    },
    {
      "cell_type": "code",
      "source": [
        "# For Loop\n",
        "for i in range(5):  # 0 to 4\n",
        "    print(i)\n",
        "\n",
        "# While Loop\n",
        "count = 0\n",
        "while count < 5:\n",
        "    print(count)\n",
        "    count += 1"
      ],
      "metadata": {
        "colab": {
          "base_uri": "https://localhost:8080/"
        },
        "id": "JMma5OKgRWbX",
        "outputId": "901f3a91-d6b0-41a9-c6c7-b0794a535418"
      },
      "execution_count": 22,
      "outputs": [
        {
          "output_type": "stream",
          "name": "stdout",
          "text": [
            "0\n",
            "1\n",
            "2\n",
            "3\n",
            "4\n",
            "0\n",
            "1\n",
            "2\n",
            "3\n",
            "4\n"
          ]
        }
      ]
    },
    {
      "cell_type": "markdown",
      "source": [
        "# <a name=\"lists-and-tuples\"></a> Lists and Tuples  \n",
        "[🔼 Back to Table of Contents](#table-of-contents)  \n",
        "\n",
        "---\n"
      ],
      "metadata": {
        "id": "P1ZZOvEBRa49"
      }
    },
    {
      "cell_type": "code",
      "source": [
        "# Lists (mutable)\n",
        "fruits = [\"apple\", \"banana\", \"cherry\"]\n",
        "print(fruits[0])  # Accessing elements\n",
        "fruits.append(\"orange\")  # Adding an element\n",
        "fruits.remove(\"banana\")  # Removing an element\n",
        "\n",
        "# Tuples (immutable)\n",
        "coordinates = (4, 5)\n",
        "print(coordinates[0])"
      ],
      "metadata": {
        "colab": {
          "base_uri": "https://localhost:8080/"
        },
        "id": "klW7n0uIRZd5",
        "outputId": "f2b0483e-3ddf-4d03-83da-238e243753b7"
      },
      "execution_count": 23,
      "outputs": [
        {
          "output_type": "stream",
          "name": "stdout",
          "text": [
            "apple\n",
            "4\n"
          ]
        }
      ]
    },
    {
      "cell_type": "markdown",
      "source": [
        "# <a name=\"functions-and-their-purpose\"></a> Functions and Their Purpose  \n",
        "[🔼 Back to Table of Contents](#table-of-contents)  \n",
        "\n",
        "---\n",
        "\n",
        "Functions allow **code reusability**, **modularity**, and **better readability**. They help in organizing large programs into manageable sections.  \n",
        "### Benefits of Using Functions:\n",
        "- Avoids repetition by reusing code.\n",
        "- Makes debugging easier.\n",
        "- Increases code readability and maintainability.\n",
        "\n",
        "\n",
        "### Defining a Function in Python  \n",
        "\n",
        "A **function** in Python is a reusable block of code that performs a specific task. Functions help in code organization, readability, and avoiding repetition.  \n",
        "\n",
        "#### **Syntax for Defining a Function**\n"
      ],
      "metadata": {
        "id": "4VVl295lRn-q"
      }
    },
    {
      "cell_type": "code",
      "source": [
        "def function_name(parameters):\n",
        "    \"\"\"Optional docstring: describes the function.\"\"\"\n",
        "\n",
        "    result=parameters*2 #  an example of operation\n",
        "\n",
        "    # Function body\n",
        "\n",
        "\n",
        "    return result  # (Optional) Return statement"
      ],
      "metadata": {
        "id": "aQNd_gayVsUo"
      },
      "execution_count": 24,
      "outputs": []
    },
    {
      "cell_type": "code",
      "source": [
        "def greet(name):\n",
        "    return \"Hello, \" + name + \"!\"\n",
        "\n"
      ],
      "metadata": {
        "id": "Q5rygJmkRjjg"
      },
      "execution_count": 25,
      "outputs": []
    },
    {
      "cell_type": "markdown",
      "source": [
        "#### Calling the function\n",
        "Passing the `\"Alice\"` as an input argument to the `greet` function."
      ],
      "metadata": {
        "id": "FrPTEIs4UWnR"
      }
    },
    {
      "cell_type": "code",
      "source": [
        "print(greet(\"Alice\"))"
      ],
      "metadata": {
        "colab": {
          "base_uri": "https://localhost:8080/"
        },
        "id": "6-JbBrO3Rtg_",
        "outputId": "041ee2f6-c685-44bb-9326-97223b9bfe31"
      },
      "execution_count": 26,
      "outputs": [
        {
          "output_type": "stream",
          "name": "stdout",
          "text": [
            "Hello, Alice!\n"
          ]
        }
      ]
    },
    {
      "cell_type": "markdown",
      "source": [
        "# <a name=\"file-handling\"></a> File Handling  \n",
        "[🔼 Back to Table of Contents](#table-of-contents)  \n",
        "\n",
        "---\n",
        "Python allows reading from and writing to files using the `open()` function.\n",
        "\n",
        "- The \"w\" mode writes (overwrites existing content).\n",
        "- The \"r\" mode reads a file.\n",
        "- The \"a\" mode appends to an existing file.\n"
      ],
      "metadata": {
        "id": "mkpNba3SR3fg"
      }
    },
    {
      "cell_type": "code",
      "source": [
        "# Writing to a file\n",
        "with open(\"example.txt\", \"w\") as file:\n",
        "    file.write(\"Hello, file!\")\n",
        "\n",
        "# Reading from a file\n",
        "with open(\"example.txt\", \"r\") as file:\n",
        "    content = file.read()\n",
        "    print(content)"
      ],
      "metadata": {
        "colab": {
          "base_uri": "https://localhost:8080/"
        },
        "id": "sA5FaEhQRw0H",
        "outputId": "85e02015-47fa-4220-efd4-9ad1a3440a12"
      },
      "execution_count": 27,
      "outputs": [
        {
          "output_type": "stream",
          "name": "stdout",
          "text": [
            "Hello, file!\n"
          ]
        }
      ]
    },
    {
      "cell_type": "markdown",
      "source": [
        "# <a name=\"importing-modules\"></a> Importing Modules  \n",
        "[🔼 Back to Table of Contents](#table-of-contents)  \n",
        "\n",
        "---\n",
        "\n",
        "Modules are used to organize reusable code. Python provides built-in and external modules.  \n"
      ],
      "metadata": {
        "id": "1ESVTUjVSC4G"
      }
    },
    {
      "cell_type": "code",
      "source": [
        "import math\n",
        "print(math.sqrt(16))  # Square root function"
      ],
      "metadata": {
        "colab": {
          "base_uri": "https://localhost:8080/"
        },
        "id": "hEj33d7IR8HV",
        "outputId": "e026b1c2-a864-41ba-ce6c-ef5b5f7f5cf0"
      },
      "execution_count": 29,
      "outputs": [
        {
          "output_type": "stream",
          "name": "stdout",
          "text": [
            "4.0\n"
          ]
        }
      ]
    },
    {
      "cell_type": "markdown",
      "source": [
        "# <a name=\"python-for-data-science\"></a> Python for Data Science  \n",
        "[🔼 Back to Table of Contents](#table-of-contents)  \n",
        "\n",
        "---\n"
      ],
      "metadata": {
        "id": "05JgztaIW9cp"
      }
    },
    {
      "cell_type": "markdown",
      "source": [
        "## <a name=\"numpy-for-numerical-computing\"></a> NumPy for Numerical Computing  \n",
        "[🔼 Back to Table of Contents](#table-of-contents)  \n",
        "\n",
        "---\n",
        "\n",
        "NumPy (Numerical Python) is a powerful library for handling large datasets and performing mathematical operations efficiently. It provides support for **arrays**, **matrices**, and various numerical computations.  \n",
        "\n",
        "### **Installing NumPy**\n"
      ],
      "metadata": {
        "id": "yOOUTyqAW3wf"
      }
    },
    {
      "cell_type": "code",
      "source": [
        "pip install numpy"
      ],
      "metadata": {
        "colab": {
          "base_uri": "https://localhost:8080/"
        },
        "id": "XZXLHysZSJHK",
        "outputId": "a31ca6bb-62d6-4e32-c875-7836e9898c3d"
      },
      "execution_count": 30,
      "outputs": [
        {
          "output_type": "stream",
          "name": "stdout",
          "text": [
            "Requirement already satisfied: numpy in /usr/local/lib/python3.11/dist-packages (2.0.2)\n"
          ]
        }
      ]
    },
    {
      "cell_type": "markdown",
      "source": [
        "## Creating and Using NumPy Arrays"
      ],
      "metadata": {
        "id": "oesPMpzoXOyS"
      }
    },
    {
      "cell_type": "code",
      "source": [
        "import numpy as np\n",
        "\n",
        "# Creating a NumPy array\n",
        "arr = np.array([1, 2, 3, 4, 5])\n",
        "print(arr)\n",
        "\n",
        "# Generating an array of zeros\n",
        "zeros = np.zeros((3, 3))\n",
        "print(zeros)\n",
        "\n",
        "# Generating a random array\n",
        "random_arr = np.random.rand(3, 3)\n",
        "print(random_arr)"
      ],
      "metadata": {
        "colab": {
          "base_uri": "https://localhost:8080/"
        },
        "id": "Jp5-CQr9XF4-",
        "outputId": "8486bb43-c1e3-4c5f-ca31-752e51d71405"
      },
      "execution_count": 31,
      "outputs": [
        {
          "output_type": "stream",
          "name": "stdout",
          "text": [
            "[1 2 3 4 5]\n",
            "[[0. 0. 0.]\n",
            " [0. 0. 0.]\n",
            " [0. 0. 0.]]\n",
            "[[0.30270262 0.73306225 0.15117309]\n",
            " [0.68214976 0.34505305 0.92094651]\n",
            " [0.5273469  0.48984335 0.74527541]]\n"
          ]
        }
      ]
    },
    {
      "cell_type": "markdown",
      "source": [],
      "metadata": {
        "id": "g7RzQNYxXdDt"
      }
    },
    {
      "cell_type": "markdown",
      "source": [
        "NumPy is much faster than Python lists for numerical operations."
      ],
      "metadata": {
        "id": "xem2amq3XbvV"
      }
    },
    {
      "cell_type": "markdown",
      "source": [
        "## <a name=\"pandas-for-data-manipulation\"></a> Pandas for Data Manipulation  \n",
        "[🔼 Back to Table of Contents](#table-of-contents)  \n",
        "\n",
        "---\n",
        "\n",
        "Pandas is a powerful library for working with structured data. It provides two main data structures:  \n",
        "- **Series** – One-dimensional labeled array.  \n",
        "- **DataFrame** – Two-dimensional table (like a spreadsheet).  \n",
        "\n",
        "### **Installing Pandas**\n"
      ],
      "metadata": {
        "id": "kWMNrUPIXjEa"
      }
    },
    {
      "cell_type": "code",
      "source": [
        "pip install pandas"
      ],
      "metadata": {
        "colab": {
          "base_uri": "https://localhost:8080/"
        },
        "id": "S_SNvgl2XTZ7",
        "outputId": "17c54b50-150c-4a0e-821e-5cd022e804af"
      },
      "execution_count": 32,
      "outputs": [
        {
          "output_type": "stream",
          "name": "stdout",
          "text": [
            "Requirement already satisfied: pandas in /usr/local/lib/python3.11/dist-packages (2.2.2)\n",
            "Requirement already satisfied: numpy>=1.23.2 in /usr/local/lib/python3.11/dist-packages (from pandas) (2.0.2)\n",
            "Requirement already satisfied: python-dateutil>=2.8.2 in /usr/local/lib/python3.11/dist-packages (from pandas) (2.8.2)\n",
            "Requirement already satisfied: pytz>=2020.1 in /usr/local/lib/python3.11/dist-packages (from pandas) (2025.1)\n",
            "Requirement already satisfied: tzdata>=2022.7 in /usr/local/lib/python3.11/dist-packages (from pandas) (2025.1)\n",
            "Requirement already satisfied: six>=1.5 in /usr/local/lib/python3.11/dist-packages (from python-dateutil>=2.8.2->pandas) (1.17.0)\n"
          ]
        }
      ]
    },
    {
      "cell_type": "markdown",
      "source": [
        "### Creating and Using a DataFrame\n",
        "Pandas is used for data cleaning, transformation, and analysis in Data Science."
      ],
      "metadata": {
        "id": "1rfvrxpmXtJV"
      }
    },
    {
      "cell_type": "code",
      "source": [
        "import pandas as pd\n",
        "\n",
        "# Creating a DataFrame\n",
        "data = {\n",
        "    \"Name\": [\"Alice\", \"Bob\", \"Charlie\"],\n",
        "    \"Age\": [25, 30, 35],\n",
        "    \"City\": [\"New York\", \"Los Angeles\", \"Chicago\"]\n",
        "}\n",
        "\n",
        "df = pd.DataFrame(data)\n",
        "print(df)\n",
        "\n",
        "# Accessing columns\n",
        "print(df[\"Name\"])\n",
        "\n",
        "# Filtering data\n",
        "filtered_df = df[df[\"Age\"] > 28]\n",
        "print(filtered_df)"
      ],
      "metadata": {
        "colab": {
          "base_uri": "https://localhost:8080/"
        },
        "id": "6kxzPBDYXpUA",
        "outputId": "2b566e48-e931-4424-97b8-7f297e3f4a78"
      },
      "execution_count": 33,
      "outputs": [
        {
          "output_type": "stream",
          "name": "stdout",
          "text": [
            "      Name  Age         City\n",
            "0    Alice   25     New York\n",
            "1      Bob   30  Los Angeles\n",
            "2  Charlie   35      Chicago\n",
            "0      Alice\n",
            "1        Bob\n",
            "2    Charlie\n",
            "Name: Name, dtype: object\n",
            "      Name  Age         City\n",
            "1      Bob   30  Los Angeles\n",
            "2  Charlie   35      Chicago\n"
          ]
        }
      ]
    },
    {
      "cell_type": "markdown",
      "source": [
        "## <a name=\"matplotlib-for-data-visualization\"></a> Matplotlib for Data Visualization  \n",
        "[🔼 Back to Table of Contents](#table-of-contents)  \n",
        "\n",
        "---\n",
        "\n",
        "\n",
        "Matplotlib is a Python library used to create static, animated, and interactive visualizations.  \n",
        "\n",
        "Matplotlib is widely used for data visualization in Data Science.\n",
        "\n",
        "### **Installing Matplotlib**\n"
      ],
      "metadata": {
        "id": "8FgVA_XkX_Od"
      }
    },
    {
      "cell_type": "code",
      "source": [
        "!pip install matplotlib"
      ],
      "metadata": {
        "colab": {
          "base_uri": "https://localhost:8080/"
        },
        "id": "5tg9CWnnXyrb",
        "outputId": "b81968d3-54fe-4af3-c663-cd089ac2cf9c"
      },
      "execution_count": 34,
      "outputs": [
        {
          "output_type": "stream",
          "name": "stdout",
          "text": [
            "Requirement already satisfied: matplotlib in /usr/local/lib/python3.11/dist-packages (3.10.0)\n",
            "Requirement already satisfied: contourpy>=1.0.1 in /usr/local/lib/python3.11/dist-packages (from matplotlib) (1.3.1)\n",
            "Requirement already satisfied: cycler>=0.10 in /usr/local/lib/python3.11/dist-packages (from matplotlib) (0.12.1)\n",
            "Requirement already satisfied: fonttools>=4.22.0 in /usr/local/lib/python3.11/dist-packages (from matplotlib) (4.56.0)\n",
            "Requirement already satisfied: kiwisolver>=1.3.1 in /usr/local/lib/python3.11/dist-packages (from matplotlib) (1.4.8)\n",
            "Requirement already satisfied: numpy>=1.23 in /usr/local/lib/python3.11/dist-packages (from matplotlib) (2.0.2)\n",
            "Requirement already satisfied: packaging>=20.0 in /usr/local/lib/python3.11/dist-packages (from matplotlib) (24.2)\n",
            "Requirement already satisfied: pillow>=8 in /usr/local/lib/python3.11/dist-packages (from matplotlib) (11.1.0)\n",
            "Requirement already satisfied: pyparsing>=2.3.1 in /usr/local/lib/python3.11/dist-packages (from matplotlib) (3.2.1)\n",
            "Requirement already satisfied: python-dateutil>=2.7 in /usr/local/lib/python3.11/dist-packages (from matplotlib) (2.8.2)\n",
            "Requirement already satisfied: six>=1.5 in /usr/local/lib/python3.11/dist-packages (from python-dateutil>=2.7->matplotlib) (1.17.0)\n"
          ]
        }
      ]
    },
    {
      "cell_type": "code",
      "source": [
        "import matplotlib.pyplot as plt\n",
        "\n",
        "# Data for plotting\n",
        "x = [1, 2, 3, 4, 5]\n",
        "y = [10, 20, 25, 30, 50]\n",
        "\n",
        "# Creating a plot\n",
        "plt.plot(x, y, marker=\"o\", linestyle=\"--\", color=\"b\")\n",
        "plt.xlabel(\"X-axis\")\n",
        "plt.ylabel(\"Y-axis\")\n",
        "plt.title(\"Simple Line Plot\")\n",
        "plt.show()"
      ],
      "metadata": {
        "colab": {
          "base_uri": "https://localhost:8080/",
          "height": 472
        },
        "id": "glHsXlysYCey",
        "outputId": "df498a40-7a45-47fb-f2bb-c8c5ee64eb8d"
      },
      "execution_count": 35,
      "outputs": [
        {
          "output_type": "display_data",
          "data": {
            "text/plain": [
              "<Figure size 640x480 with 1 Axes>"
            ],
            "image/png": "[encoded data removed]"
          },
          "metadata": {}
        }
      ]
    },
    {
      "cell_type": "markdown",
      "source": [
        "## <a name=\"seaborn-for-advanced-visualization\"></a> Seaborn for Advanced Visualization  \n",
        "[🔼 Back to Table of Contents](#table-of-contents)  \n",
        "\n",
        "---\n",
        "\n",
        "Seaborn is built on top of Matplotlib and provides beautiful statistical visualizations. Seaborn makes it easy to create heatmaps, histograms, and scatter plots for data analysis.  \n",
        "\n",
        "### **Installing Seaborn**"
      ],
      "metadata": {
        "id": "KyjUWiB5YUJc"
      }
    },
    {
      "cell_type": "code",
      "source": [
        "!pip install seaborn"
      ],
      "metadata": {
        "colab": {
          "base_uri": "https://localhost:8080/"
        },
        "id": "AUv4TkI9YH9k",
        "outputId": "67f3f9ab-bc83-43b7-b3ea-833e531c135f"
      },
      "execution_count": 36,
      "outputs": [
        {
          "output_type": "stream",
          "name": "stdout",
          "text": [
            "Requirement already satisfied: seaborn in /usr/local/lib/python3.11/dist-packages (0.13.2)\n",
            "Requirement already satisfied: numpy!=1.24.0,>=1.20 in /usr/local/lib/python3.11/dist-packages (from seaborn) (2.0.2)\n",
            "Requirement already satisfied: pandas>=1.2 in /usr/local/lib/python3.11/dist-packages (from seaborn) (2.2.2)\n",
            "Requirement already satisfied: matplotlib!=3.6.1,>=3.4 in /usr/local/lib/python3.11/dist-packages (from seaborn) (3.10.0)\n",
            "Requirement already satisfied: contourpy>=1.0.1 in /usr/local/lib/python3.11/dist-packages (from matplotlib!=3.6.1,>=3.4->seaborn) (1.3.1)\n",
            "Requirement already satisfied: cycler>=0.10 in /usr/local/lib/python3.11/dist-packages (from matplotlib!=3.6.1,>=3.4->seaborn) (0.12.1)\n",
            "Requirement already satisfied: fonttools>=4.22.0 in /usr/local/lib/python3.11/dist-packages (from matplotlib!=3.6.1,>=3.4->seaborn) (4.56.0)\n",
            "Requirement already satisfied: kiwisolver>=1.3.1 in /usr/local/lib/python3.11/dist-packages (from matplotlib!=3.6.1,>=3.4->seaborn) (1.4.8)\n",
            "Requirement already satisfied: packaging>=20.0 in /usr/local/lib/python3.11/dist-packages (from matplotlib!=3.6.1,>=3.4->seaborn) (24.2)\n",
            "Requirement already satisfied: pillow>=8 in /usr/local/lib/python3.11/dist-packages (from matplotlib!=3.6.1,>=3.4->seaborn) (11.1.0)\n",
            "Requirement already satisfied: pyparsing>=2.3.1 in /usr/local/lib/python3.11/dist-packages (from matplotlib!=3.6.1,>=3.4->seaborn) (3.2.1)\n",
            "Requirement already satisfied: python-dateutil>=2.7 in /usr/local/lib/python3.11/dist-packages (from matplotlib!=3.6.1,>=3.4->seaborn) (2.8.2)\n",
            "Requirement already satisfied: pytz>=2020.1 in /usr/local/lib/python3.11/dist-packages (from pandas>=1.2->seaborn) (2025.1)\n",
            "Requirement already satisfied: tzdata>=2022.7 in /usr/local/lib/python3.11/dist-packages (from pandas>=1.2->seaborn) (2025.1)\n",
            "Requirement already satisfied: six>=1.5 in /usr/local/lib/python3.11/dist-packages (from python-dateutil>=2.7->matplotlib!=3.6.1,>=3.4->seaborn) (1.17.0)\n"
          ]
        }
      ]
    },
    {
      "cell_type": "code",
      "source": [
        "import seaborn as sns\n",
        "\n",
        "# Sample dataset\n",
        "tips = sns.load_dataset(\"tips\")\n",
        "\n",
        "# Scatter plot\n",
        "sns.scatterplot(x=\"total_bill\", y=\"tip\", data=tips)\n",
        "plt.show()"
      ],
      "metadata": {
        "colab": {
          "base_uri": "https://localhost:8080/",
          "height": 450
        },
        "id": "VJ9teHkuYYhs",
        "outputId": "ad7c7f14-04b6-4724-e12c-11757a57bf64"
      },
      "execution_count": 37,
      "outputs": [
        {
          "output_type": "display_data",
          "data": {
            "text/plain": [
              "<Figure size 640x480 with 1 Axes>"
            ],
            "image/png": "[encoded data removed]"
          },
          "metadata": {}
        }
      ]
    },
    {
      "cell_type": "markdown",
      "source": [
        "## <a name=\"scikit-learn-for-machine-learning\"></a> Scikit-Learn for Machine Learning  \n",
        "[🔼 Back to Table of Contents](#table-of-contents)  \n",
        "\n",
        "---\n",
        "\n",
        "\n",
        "Scikit-Learn is the most popular library for Machine Learning in Python. It provides tools for:  \n",
        "- **Supervised Learning** (Linear Regression, Decision Trees, etc.)  \n",
        "- **Unsupervised Learning** (Clustering, PCA, etc.)  \n",
        "- **Model Selection & Evaluation**  \n",
        "\n",
        "Scikit-Learn simplifies data modeling and predictive analysis.\n",
        "\n",
        "### **Installing Scikit-Learn**"
      ],
      "metadata": {
        "id": "A0gS4Gz_YqVp"
      }
    },
    {
      "cell_type": "code",
      "source": [
        "!pip install scikit-learn"
      ],
      "metadata": {
        "colab": {
          "base_uri": "https://localhost:8080/"
        },
        "id": "E3FCfEZ0Yc7Z",
        "outputId": "ddd93695-bc62-4b09-ead3-797ddfb4202a"
      },
      "execution_count": 38,
      "outputs": [
        {
          "output_type": "stream",
          "name": "stdout",
          "text": [
            "Requirement already satisfied: scikit-learn in /usr/local/lib/python3.11/dist-packages (1.6.1)\n",
            "Requirement already satisfied: numpy>=1.19.5 in /usr/local/lib/python3.11/dist-packages (from scikit-learn) (2.0.2)\n",
            "Requirement already satisfied: scipy>=1.6.0 in /usr/local/lib/python3.11/dist-packages (from scikit-learn) (1.14.1)\n",
            "Requirement already satisfied: joblib>=1.2.0 in /usr/local/lib/python3.11/dist-packages (from scikit-learn) (1.4.2)\n",
            "Requirement already satisfied: threadpoolctl>=3.1.0 in /usr/local/lib/python3.11/dist-packages (from scikit-learn) (3.6.0)\n"
          ]
        }
      ]
    },
    {
      "cell_type": "code",
      "source": [
        "from sklearn.linear_model import LinearRegression\n",
        "import numpy as np\n",
        "\n",
        "# Sample data\n",
        "X = np.array([1, 2, 3, 4, 5]).reshape(-1, 1)\n",
        "y = np.array([10, 20, 30, 40, 50])\n",
        "\n",
        "# Creating and training the model\n",
        "model = LinearRegression()\n",
        "model.fit(X, y)\n",
        "\n",
        "# Making predictions\n",
        "predictions = model.predict([[6]])\n",
        "print(predictions)  # Output: [60.]"
      ],
      "metadata": {
        "colab": {
          "base_uri": "https://localhost:8080/"
        },
        "id": "rNzXQjprYtoA",
        "outputId": "91918caa-2e6d-43ac-acab-24b6f6df92cc"
      },
      "execution_count": 39,
      "outputs": [
        {
          "output_type": "stream",
          "name": "stdout",
          "text": [
            "[60.]\n"
          ]
        }
      ]
    },
    {
      "cell_type": "markdown",
      "source": [
        "## <a name=\"handling-missing-data\"></a> Handling Missing Data  \n",
        "[🔼 Back to Table of Contents](#table-of-contents)  \n",
        "\n",
        "---\n",
        "\n",
        "\n",
        "Missing data is common in real-world datasets. Pandas provides functions to detect and handle missing values.  \n",
        "\n",
        "### **Checking for Missing Values**\n",
        "Handling missing data properly is crucial for data cleaning and preprocessing."
      ],
      "metadata": {
        "id": "y9J2h5aWZDhF"
      }
    },
    {
      "cell_type": "code",
      "source": [
        "import pandas as pd\n",
        "import numpy as np\n",
        "\n",
        "# Creating a DataFrame with missing values\n",
        "data = {\"Name\": [\"Alice\", \"Bob\", None], \"Age\": [25, np.nan, 35]}\n",
        "df = pd.DataFrame(data)\n",
        "\n",
        "# Check for missing values\n",
        "print(df.isnull())\n",
        "\n",
        "# Drop missing values\n",
        "df_cleaned = df.dropna()\n",
        "\n",
        "# Fill missing values\n",
        "df_filled = df.fillna(\"Unknown\")"
      ],
      "metadata": {
        "colab": {
          "base_uri": "https://localhost:8080/"
        },
        "id": "dcy8wGgvYypS",
        "outputId": "f942e9ce-ba8b-4c67-e40a-9a145ddf8813"
      },
      "execution_count": 40,
      "outputs": [
        {
          "output_type": "stream",
          "name": "stdout",
          "text": [
            "    Name    Age\n",
            "0  False  False\n",
            "1  False   True\n",
            "2   True  False\n"
          ]
        }
      ]
    },
    {
      "cell_type": "markdown",
      "source": [
        "## <a name=\"working-with-large-datasets-dask\"></a> Working with Large Datasets (Dask)  \n",
        "[🔼 Back to Table of Contents](#table-of-contents)  \n",
        "\n",
        "---\n",
        "\n",
        "\n",
        "Dask is an alternative to Pandas that allows handling **large datasets** that do not fit into memory. Dask allows processing big data efficiently in Python.\n",
        "\n",
        "### **Installing Dask**"
      ],
      "metadata": {
        "id": "ZC9PPPTYZWcF"
      }
    },
    {
      "cell_type": "code",
      "source": [
        "!pip install dask"
      ],
      "metadata": {
        "colab": {
          "base_uri": "https://localhost:8080/"
        },
        "id": "qQXCQC0tZJEB",
        "outputId": "68703e9c-3bfb-4baf-f59c-d5e2870c2a4e"
      },
      "execution_count": 41,
      "outputs": [
        {
          "output_type": "stream",
          "name": "stdout",
          "text": [
            "Requirement already satisfied: dask in /usr/local/lib/python3.11/dist-packages (2024.12.1)\n",
            "Requirement already satisfied: click>=8.1 in /usr/local/lib/python3.11/dist-packages (from dask) (8.1.8)\n",
            "Requirement already satisfied: cloudpickle>=3.0.0 in /usr/local/lib/python3.11/dist-packages (from dask) (3.1.1)\n",
            "Requirement already satisfied: fsspec>=2021.09.0 in /usr/local/lib/python3.11/dist-packages (from dask) (2025.3.0)\n",
            "Requirement already satisfied: packaging>=20.0 in /usr/local/lib/python3.11/dist-packages (from dask) (24.2)\n",
            "Requirement already satisfied: partd>=1.4.0 in /usr/local/lib/python3.11/dist-packages (from dask) (1.4.2)\n",
            "Requirement already satisfied: pyyaml>=5.3.1 in /usr/local/lib/python3.11/dist-packages (from dask) (6.0.2)\n",
            "Requirement already satisfied: toolz>=0.10.0 in /usr/local/lib/python3.11/dist-packages (from dask) (0.12.1)\n",
            "Requirement already satisfied: importlib_metadata>=4.13.0 in /usr/local/lib/python3.11/dist-packages (from dask) (8.6.1)\n",
            "Requirement already satisfied: zipp>=3.20 in /usr/local/lib/python3.11/dist-packages (from importlib_metadata>=4.13.0->dask) (3.21.0)\n",
            "Requirement already satisfied: locket in /usr/local/lib/python3.11/dist-packages (from partd>=1.4.0->dask) (1.0.0)\n"
          ]
        }
      ]
    },
    {
      "cell_type": "code",
      "source": [
        "import dask.dataframe as dd\n",
        "\n",
        "# we need to have a dask file to read.\n",
        "\n",
        "# # Reading a large CSV file\n",
        "# df = dd.read_csv(\"large_dataset.csv\")\n",
        "\n",
        "# # Performing operations on large datasets\n",
        "# mean_value = df[\"column_name\"].mean().compute()\n",
        "# print(mean_value)\n",
        "\n"
      ],
      "metadata": {
        "id": "q5p5VKi4Ziov"
      },
      "execution_count": 42,
      "outputs": []
    },
    {
      "cell_type": "markdown",
      "source": [
        "## <a name=\"working-with-time-series-data\"></a> Working with Time Series Data  \n",
        "[🔼 Back to Table of Contents](#table-of-contents)  \n",
        "\n",
        "---\n",
        "\n",
        "\n",
        "Time series data is a sequence of data points indexed by time. Pandas provides powerful tools to handle time-based data.  \n",
        "\n",
        "### **Creating a Time Series**"
      ],
      "metadata": {
        "id": "6-qfvrC6Z3mH"
      }
    },
    {
      "cell_type": "code",
      "source": [
        "import pandas as pd\n",
        "\n",
        "# Creating a date range\n",
        "dates = pd.date_range(start=\"2023-01-01\", periods=5, freq=\"D\")\n",
        "\n",
        "# Creating a time series DataFrame\n",
        "data = {\"Date\": dates, \"Value\": [10, 20, 30, 40, 50]}\n",
        "df = pd.DataFrame(data)\n",
        "\n",
        "# Converting to DateTime format\n",
        "df[\"Date\"] = pd.to_datetime(df[\"Date\"])\n",
        "\n",
        "# Setting Date as Index\n",
        "df.set_index(\"Date\", inplace=True)\n",
        "\n",
        "print(df)"
      ],
      "metadata": {
        "colab": {
          "base_uri": "https://localhost:8080/"
        },
        "id": "ejq7VZvPZ69-",
        "outputId": "9085e512-2d12-4dd2-86c6-594971c6bd3c"
      },
      "execution_count": 43,
      "outputs": [
        {
          "output_type": "stream",
          "name": "stdout",
          "text": [
            "            Value\n",
            "Date             \n",
            "2023-01-01     10\n",
            "2023-01-02     20\n",
            "2023-01-03     30\n",
            "2023-01-04     40\n",
            "2023-01-05     50\n"
          ]
        }
      ]
    },
    {
      "cell_type": "markdown",
      "source": [],
      "metadata": {
        "id": "F4B-UJu5ZbEN"
      }
    }
  ]
}